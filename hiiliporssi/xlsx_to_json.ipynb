{
 "metadata": {
  "language_info": {
   "codemirror_mode": {
    "name": "ipython",
    "version": 3
   },
   "file_extension": ".py",
   "mimetype": "text/x-python",
   "name": "python",
   "nbconvert_exporter": "python",
   "pygments_lexer": "ipython3",
   "version": "3.8.5-final"
  },
  "orig_nbformat": 2,
  "kernelspec": {
   "name": "python_defaultSpec_1600935509266",
   "display_name": "Python 3.8.5 64-bit ('ds')",
   "metadata": {
    "interpreter": {
     "hash": "5df66409760d82ad9c0afc6b29df283a257358ed525e8cecdce56c8bcbaafbf6"
    }
   }
  }
 },
 "nbformat": 4,
 "nbformat_minor": 2,
 "cells": [
  {
   "cell_type": "code",
   "execution_count": 32,
   "metadata": {},
   "outputs": [],
   "source": [
    "import pandas as pd\n",
    "import json"
   ]
  },
  {
   "cell_type": "code",
   "execution_count": 27,
   "metadata": {},
   "outputs": [],
   "source": [
    "df = pd.read_excel(\"data/hiilipörssi-avoin.xlsx\", skiprows=1)"
   ]
  },
  {
   "cell_type": "code",
   "execution_count": 28,
   "metadata": {},
   "outputs": [
    {
     "output_type": "execute_result",
     "data": {
      "text/plain": "                         nimi  \\\n0      Kyhönsuo ja Laatikkala   \n1                   Juutinsuo   \n2                 Isohillikko   \n3                     Vihtari   \n4  Stormossen ja sen lähisuot   \n\n                                              kuvaus  \\\n0  Kyhönsuo on laaja isolta osin ojittamaton suok...   \n1  Juutinsuo on Kiteen Kesälahdella sijaitseva la...   \n2  Iissä sijaitsevan Isohillikkosuon ominaispiirt...   \n3  Heinäveden Vihtarissa sijaitsevalla Mattilan s...   \n4  Helsingin seurakuntayhtymän omistuksessa oleva...   \n\n                                      otsikko               omistaja  \\\n0  Tuupovaaran kohteet Kyhönsuo ja Laatikkala             seurakunta   \n1                                   Juutinsuo             yksityinen   \n2                                 Isohillikko                 valtio   \n3                                     Vihtari  Ilmari Räsäsen säätiö   \n4                  Stormossen ja sen lähisuot             seurakunta   \n\n  ennallistamisalue vaikutusalue  \\\n0           22.9 ha  ei arvioitu   \n1            338 ha  ei arvioitu   \n2             65 ha   yli 100 ha   \n3          n. 15 ha  ei arvioitu   \n4             21 ha  ei arvioitu   \n\n                          ennallistamisen eteneminen  \\\n0  Työt tehdään syksyllä 2020 jos olosuhteet sen ...   \n1  Juutinsuon ennallistaminen on vaativa prosessi...   \n2                                                NaN   \n3  Vihtarissa järjestettiin yhdet talkoot syksyll...   \n4   Työt tehdään todennäköisesti maastokaudella 2021   \n\n                                               kuvat        kuvaajat  \\\n0                                                NaN             NaN   \n1  https://hiiliporssi.fi/wp-content/uploads/2019...  Janne Raassina   \n2  https://hiiliporssi.fi/wp-content/uploads/2020...   Sakari Rehell   \n3  https://hiiliporssi.fi/wp-content/uploads/2019...   Risto Sulkava   \n4  https://hiiliporssi.fi/wp-content/uploads/2020...     Matti Aalto   \n\n                                              linkki  \\\n0  https://hiiliporssi.fi/esittelyssa-tuupavaaran...   \n1  https://hiiliporssi.fi/uusin-hiiliporssikohde-...   \n2  https://hiiliporssi.fi/hiiliporssin-ja-metsaha...   \n3  https://hiiliporssi.fi/esittelyssa-heinaveden-...   \n4  https://hiiliporssi.fi/esittelyssa-siuntion-ko...   \n\n                   kansionimi    video / muuta kiinnostavaa huom  \n0         Tuupovaaran kohteet                           NaN  NaN  \n1                   Juutinsuo  https://youtu.be/a4_F9xqQ_NQ  NaN  \n2                 Isohillikko                           NaN  NaN  \n3                     Vihtari                           NaN  NaN  \n4  Stormossen ja sen lähisuot                           NaN  NaN  ",
      "text/html": "<div>\n<style scoped>\n    .dataframe tbody tr th:only-of-type {\n        vertical-align: middle;\n    }\n\n    .dataframe tbody tr th {\n        vertical-align: top;\n    }\n\n    .dataframe thead th {\n        text-align: right;\n    }\n</style>\n<table border=\"1\" class=\"dataframe\">\n  <thead>\n    <tr style=\"text-align: right;\">\n      <th></th>\n      <th>nimi</th>\n      <th>kuvaus</th>\n      <th>otsikko</th>\n      <th>omistaja</th>\n      <th>ennallistamisalue</th>\n      <th>vaikutusalue</th>\n      <th>ennallistamisen eteneminen</th>\n      <th>kuvat</th>\n      <th>kuvaajat</th>\n      <th>linkki</th>\n      <th>kansionimi</th>\n      <th>video / muuta kiinnostavaa</th>\n      <th>huom</th>\n    </tr>\n  </thead>\n  <tbody>\n    <tr>\n      <th>0</th>\n      <td>Kyhönsuo ja Laatikkala</td>\n      <td>Kyhönsuo on laaja isolta osin ojittamaton suok...</td>\n      <td>Tuupovaaran kohteet Kyhönsuo ja Laatikkala</td>\n      <td>seurakunta</td>\n      <td>22.9 ha</td>\n      <td>ei arvioitu</td>\n      <td>Työt tehdään syksyllä 2020 jos olosuhteet sen ...</td>\n      <td>NaN</td>\n      <td>NaN</td>\n      <td>https://hiiliporssi.fi/esittelyssa-tuupavaaran...</td>\n      <td>Tuupovaaran kohteet</td>\n      <td>NaN</td>\n      <td>NaN</td>\n    </tr>\n    <tr>\n      <th>1</th>\n      <td>Juutinsuo</td>\n      <td>Juutinsuo on Kiteen Kesälahdella sijaitseva la...</td>\n      <td>Juutinsuo</td>\n      <td>yksityinen</td>\n      <td>338 ha</td>\n      <td>ei arvioitu</td>\n      <td>Juutinsuon ennallistaminen on vaativa prosessi...</td>\n      <td>https://hiiliporssi.fi/wp-content/uploads/2019...</td>\n      <td>Janne Raassina</td>\n      <td>https://hiiliporssi.fi/uusin-hiiliporssikohde-...</td>\n      <td>Juutinsuo</td>\n      <td>https://youtu.be/a4_F9xqQ_NQ</td>\n      <td>NaN</td>\n    </tr>\n    <tr>\n      <th>2</th>\n      <td>Isohillikko</td>\n      <td>Iissä sijaitsevan Isohillikkosuon ominaispiirt...</td>\n      <td>Isohillikko</td>\n      <td>valtio</td>\n      <td>65 ha</td>\n      <td>yli 100 ha</td>\n      <td>NaN</td>\n      <td>https://hiiliporssi.fi/wp-content/uploads/2020...</td>\n      <td>Sakari Rehell</td>\n      <td>https://hiiliporssi.fi/hiiliporssin-ja-metsaha...</td>\n      <td>Isohillikko</td>\n      <td>NaN</td>\n      <td>NaN</td>\n    </tr>\n    <tr>\n      <th>3</th>\n      <td>Vihtari</td>\n      <td>Heinäveden Vihtarissa sijaitsevalla Mattilan s...</td>\n      <td>Vihtari</td>\n      <td>Ilmari Räsäsen säätiö</td>\n      <td>n. 15 ha</td>\n      <td>ei arvioitu</td>\n      <td>Vihtarissa järjestettiin yhdet talkoot syksyll...</td>\n      <td>https://hiiliporssi.fi/wp-content/uploads/2019...</td>\n      <td>Risto Sulkava</td>\n      <td>https://hiiliporssi.fi/esittelyssa-heinaveden-...</td>\n      <td>Vihtari</td>\n      <td>NaN</td>\n      <td>NaN</td>\n    </tr>\n    <tr>\n      <th>4</th>\n      <td>Stormossen ja sen lähisuot</td>\n      <td>Helsingin seurakuntayhtymän omistuksessa oleva...</td>\n      <td>Stormossen ja sen lähisuot</td>\n      <td>seurakunta</td>\n      <td>21 ha</td>\n      <td>ei arvioitu</td>\n      <td>Työt tehdään todennäköisesti maastokaudella 2021</td>\n      <td>https://hiiliporssi.fi/wp-content/uploads/2020...</td>\n      <td>Matti Aalto</td>\n      <td>https://hiiliporssi.fi/esittelyssa-siuntion-ko...</td>\n      <td>Stormossen ja sen lähisuot</td>\n      <td>NaN</td>\n      <td>NaN</td>\n    </tr>\n  </tbody>\n</table>\n</div>"
     },
     "metadata": {},
     "execution_count": 28
    }
   ],
   "source": [
    "df.head()"
   ]
  },
  {
   "cell_type": "code",
   "execution_count": 29,
   "metadata": {},
   "outputs": [],
   "source": [
    "df[\"kuvat\"] = df[\"kuvat\"].apply(lambda x: [str(y) for y in x.split()] if type(x) == str else [])"
   ]
  },
  {
   "cell_type": "code",
   "execution_count": 30,
   "metadata": {},
   "outputs": [],
   "source": [
    "def parseNames(n):\n",
    "    names = []\n",
    "    if type(n) == str:\n",
    "        split = n.split(\",\")\n",
    "        for name in split:\n",
    "            names.append(name.strip())\n",
    "    return names\n",
    "\n",
    "df[\"kuvaajat\"] = df[\"kuvaajat\"].apply(parseNames)\n"
   ]
  },
  {
   "cell_type": "code",
   "execution_count": 42,
   "metadata": {
    "tags": []
   },
   "outputs": [],
   "source": [
    "data = df.to_json(orient=\"records\")"
   ]
  },
  {
   "cell_type": "code",
   "execution_count": 43,
   "metadata": {},
   "outputs": [],
   "source": [
    "with open('data/hiiliporssi.json', 'w', encoding='utf8') as json_file:\n",
    "    json.dump(data, json_file, ensure_ascii=False)"
   ]
  },
  {
   "cell_type": "code",
   "execution_count": null,
   "metadata": {},
   "outputs": [],
   "source": []
  }
 ]
}