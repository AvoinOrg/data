{
 "metadata": {
  "language_info": {
   "codemirror_mode": {
    "name": "ipython",
    "version": 3
   },
   "file_extension": ".py",
   "mimetype": "text/x-python",
   "name": "python",
   "nbconvert_exporter": "python",
   "pygments_lexer": "ipython3",
   "version": "3.8.5-final"
  },
  "orig_nbformat": 2,
  "kernelspec": {
   "name": "Python 3.8.5 64-bit ('3.8.5')",
   "display_name": "Python 3.8.5 64-bit ('3.8.5')",
   "metadata": {
    "interpreter": {
     "hash": "5df66409760d82ad9c0afc6b29df283a257358ed525e8cecdce56c8bcbaafbf6"
    }
   }
  }
 },
 "nbformat": 4,
 "nbformat_minor": 2,
 "cells": [
  {
   "cell_type": "code",
   "execution_count": 1,
   "metadata": {},
   "outputs": [],
   "source": [
    "import fiona\n",
    "from fiona.crs import from_epsg\n",
    "\n",
    "from pathlib import Path\n",
    "from collections import OrderedDict"
   ]
  },
  {
   "cell_type": "code",
   "execution_count": 2,
   "metadata": {},
   "outputs": [],
   "source": [
    "data_dir = Path(\"/mnt/e/datasets/hiilipörssi\")\n",
    "\n",
    "schema = {'properties': OrderedDict([('name', 'str')]), 'geometry': 'Polygon'}\n",
    "\n",
    "\n",
    "with fiona.open('data/data.shp', \"w\", crs=from_epsg(3067), driver='ESRI Shapefile', schema=schema) as output:\n",
    "    for dir in data_dir.iterdir():\n",
    "        properties = OrderedDict([('name', dir.name)])\n",
    "        geometry = {'type': \"Polygon\", 'coordinates': []}\n",
    "\n",
    "        with fiona.open(str(dir) + \"/Polygon.shp\") as shapes:\n",
    "            for shape in shapes:\n",
    "                geometry[\"coordinates\"].append(shape[\"geometry\"][\"coordinates\"][0])\n",
    "        \n",
    "        output.write({\"properties\": properties, \"geometry\": geometry})"
   ]
  },
  {
   "cell_type": "code",
   "execution_count": null,
   "metadata": {},
   "outputs": [],
   "source": []
  }
 ]
}