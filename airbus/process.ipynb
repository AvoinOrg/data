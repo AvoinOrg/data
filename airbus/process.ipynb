{
 "metadata": {
  "language_info": {
   "codemirror_mode": {
    "name": "ipython",
    "version": 3
   },
   "file_extension": ".py",
   "mimetype": "text/x-python",
   "name": "python",
   "nbconvert_exporter": "python",
   "pygments_lexer": "ipython3",
   "version": "3.8.5"
  },
  "orig_nbformat": 2,
  "kernelspec": {
   "name": "python385jvsc74a57bd0e3ea0e79b9f4b0014daeb5ec56e0cda59c58695f229c7c70b6a7879ecb74e3d1",
   "display_name": "Python 3.8.5 64-bit ('ds': pyenv)"
  }
 },
 "nbformat": 4,
 "nbformat_minor": 2,
 "cells": [
  {
   "cell_type": "code",
   "execution_count": 1,
   "metadata": {},
   "outputs": [],
   "source": [
    "import os\n",
    "from tqdm.notebook import tqdm\n",
    "from multiprocessing import Pool\n",
    "from tqdm.contrib.concurrent import process_map"
   ]
  },
  {
   "cell_type": "code",
   "execution_count": 2,
   "metadata": {
    "tags": []
   },
   "outputs": [
    {
     "output_type": "display_data",
     "data": {
      "text/plain": "HBox(children=(FloatProgress(value=0.0, max=1751.0), HTML(value='')))",
      "application/vnd.jupyter.widget-view+json": {
       "version_major": 2,
       "version_minor": 0,
       "model_id": "241292768ffe4514bc617e98736519cf"
      }
     },
     "metadata": {}
    },
    {
     "output_type": "stream",
     "name": "stdout",
     "text": [
      "\n"
     ]
    }
   ],
   "source": [
    "input = \"/mnt/e/datasets/oneatlas/test2_pics\"\n",
    "output = \"/mnt/e/datasets/oneatlas/test3_pics\"\n",
    "\n",
    "with tqdm(total=len(os.listdir(input))) as pbar:\n",
    "    p = multiprocessing.Pool(12)\n",
    "    for filename in os.listdir(input):\n",
    "        if filename.endswith(\".TIF\") or filename.endswith(\".tif\"):\n",
    "            out_filename = f\"{output}/{filename}\"\n",
    "            command = f\"rgb2pct.py -n 255 -of GTiff {input}/{filename} {out_filename}\"\n",
    "\n",
    "            os.system(command)\n",
    "\n",
    "            pbar.update(1)\n",
    "        else:\n",
    "            continue"
   ]
  },
  {
   "cell_type": "code",
   "execution_count": null,
   "metadata": {},
   "outputs": [],
   "source": [
    "input = \"/mnt/e/datasets/oneatlas/test2_pics\"\n",
    "output = \"/mnt/d/datasets/oneatlas/test3_pics\"\n",
    "\n",
    "with tqdm(total=len(os.listdir(input))) as pbar:\n",
    "\n",
    "    def create_tiles(filename):\n",
    "        command = f\"gdal2tiles.py -p mercator -r average -a 0.0 -e -x -z 12-19 --xyz {filename} {output}\"\n",
    "        os.system(command)\n",
    "\n",
    "    args = []\n",
    "\n",
    "    for filename in os.listdir(input):\n",
    "        if filename.endswith(\".TIF\") or filename.endswith(\".tif\"):\n",
    "            args.append(f\"{input}/{filename}\")\n",
    "\n",
    "    process_map(create_tiles, args, max_workers=11, chunksize=1) \n"
   ]
  },
  {
   "cell_type": "code",
   "execution_count": 3,
   "metadata": {},
   "outputs": [
    {
     "output_type": "display_data",
     "data": {
      "text/plain": "HBox(children=(FloatProgress(value=0.0, max=1095.0), HTML(value='')))",
      "application/vnd.jupyter.widget-view+json": {
       "version_major": 2,
       "version_minor": 0,
       "model_id": "20772d10fd544adc82064306e73bce2a"
      }
     },
     "metadata": {}
    }
   ],
   "source": [
    "input = \"/mnt/e/datasets/oneatlas/test2_pics\"\n",
    "output = \"/mnt/d/datasets/oneatlas/test2_pics\"\n",
    "\n",
    "with tqdm(total=len(os.listdir(input))) as pbar:\n",
    "    args = []\n",
    "    for filename in os.listdir(input):\n",
    "        if filename.endswith(\".TIF\") or filename.endswith(\".tif\"):\n",
    "            command = f\"gdal2tiles.py -p mercator -r average -a 0.0 -e -x -z 12-19 --xyz {input}/{filename} {output}\"\n",
    "\n",
    "            os.system(command)\n",
    "\n",
    "            pbar.update(1)\n",
    "        else:\n",
    "            continue"
   ]
  },
  {
   "cell_type": "code",
   "execution_count": 10,
   "metadata": {},
   "outputs": [
    {
     "output_type": "execute_result",
     "data": {
      "text/plain": [
       "0"
      ]
     },
     "metadata": {},
     "execution_count": 10
    }
   ],
   "source": [
    "input = \"/mnt/e/datasets/oneatlas/test2_pics/IMG_SPOT6_PMS_201801140448179_ORT_5c88e759-788a-47da-c7e0-2375ebb571ba_R1C1.TIF\"\n",
    "output = \"/mnt/d/datasets/oneatlas/single2\"\n",
    "\n",
    "command = f\"gdal2tiles.py -p mercator -r average -a 0.0 -e -x -z 2-18 --xyz  {input} {output}\"\n",
    "os.system(command)"
   ]
  },
  {
   "cell_type": "code",
   "execution_count": null,
   "metadata": {},
   "outputs": [],
   "source": []
  }
 ]
}