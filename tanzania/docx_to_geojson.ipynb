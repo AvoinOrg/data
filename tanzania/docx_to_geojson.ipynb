{
 "metadata": {
  "language_info": {
   "codemirror_mode": {
    "name": "ipython",
    "version": 3
   },
   "file_extension": ".py",
   "mimetype": "text/x-python",
   "name": "python",
   "nbconvert_exporter": "python",
   "pygments_lexer": "ipython3",
   "version": "3.8.5-final"
  },
  "orig_nbformat": 2,
  "kernelspec": {
   "name": "python3",
   "display_name": "Python 3.8.5 64-bit ('ds')",
   "metadata": {
    "interpreter": {
     "hash": "33ca321456b3c53dceabd75ce0bef51f1de1b5cc7e90171e6f75e6e17a8fb5cb"
    }
   }
  }
 },
 "nbformat": 4,
 "nbformat_minor": 2,
 "cells": [
  {
   "cell_type": "code",
   "execution_count": 53,
   "metadata": {},
   "outputs": [],
   "source": [
    "from docx import Document\n",
    "from geojson import Polygon, MultiPolygon, Feature, FeatureCollection, dump\n",
    "from pyproj import Proj\n",
    "import utm"
   ]
  },
  {
   "cell_type": "code",
   "execution_count": 54,
   "metadata": {},
   "outputs": [],
   "source": [
    "doc = Document('data/coords.docx')"
   ]
  },
  {
   "cell_type": "code",
   "execution_count": 55,
   "metadata": {},
   "outputs": [],
   "source": [
    "table = doc.tables[0]\n",
    "\n",
    "data = []\n",
    "\n",
    "keys = None\n",
    "for i, row in enumerate(table.rows):\n",
    "    text = (cell.text for cell in row.cells)\n",
    "\n",
    "    if i == 0:\n",
    "        keys = tuple(text)\n",
    "        continue\n",
    "\n",
    "    row_data = dict(zip(keys, text))\n",
    "    data.append(row_data)"
   ]
  },
  {
   "cell_type": "code",
   "execution_count": 56,
   "metadata": {},
   "outputs": [],
   "source": [
    "myProj = Proj(\"+proj=utm +zone=36L, +south +ellps=WGS84\")"
   ]
  },
  {
   "cell_type": "code",
   "execution_count": 57,
   "metadata": {},
   "outputs": [],
   "source": [
    "def parseCoord(s):\n",
    "    s = s.replace(\"\\n\", \"\")\n",
    "    s = s.replace(\":\", \"\")\n",
    "    s = s.replace(\" \", \"\")\n",
    "    s = s.replace(\".\", \"\")\n",
    "    s = s.replace(\"36L\", \"\")\n",
    "\n",
    "    east, south = s.split(\"UTM\")\n",
    "    east = east.lstrip()\n",
    "\n",
    "    coord = utm.to_latlon(float(east), float(south), 36, \"L\")\n",
    "    \n",
    "    return [coord[1], coord[0]]\n"
   ]
  },
  {
   "cell_type": "code",
   "execution_count": 58,
   "metadata": {},
   "outputs": [],
   "source": [
    "features = []\n",
    "\n",
    "for f in data:\n",
    "    coords = []\n",
    "    fc = f.copy()\n",
    "    for i in range(1, 10):\n",
    "        index = f'COORD{i}'\n",
    "        coord_string = fc[index]\n",
    "        fc.pop(index)\n",
    "        if len(coord_string) > 4:\n",
    "            coords.append(parseCoord(coord_string))\n",
    "\n",
    "    if len(coords) > 0:\n",
    "        coords.append(coords[0])\n",
    "\n",
    "    polygon = Polygon([coords])\n",
    "    features.append(Feature(geometry=polygon, properties=fc))\n",
    "\n",
    "# add more features...\n",
    "# features.append(...)\n",
    "\n",
    "feature_collection = FeatureCollection(features)\n",
    "\n",
    "with open('output/coords.geojson', 'w') as f:\n",
    "   dump(feature_collection, f)"
   ]
  },
  {
   "cell_type": "code",
   "execution_count": null,
   "metadata": {},
   "outputs": [],
   "source": []
  },
  {
   "cell_type": "code",
   "execution_count": null,
   "metadata": {},
   "outputs": [],
   "source": []
  }
 ]
}